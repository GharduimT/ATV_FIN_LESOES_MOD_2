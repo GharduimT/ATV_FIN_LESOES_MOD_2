{
 "cells": [
  {
   "cell_type": "code",
   "execution_count": 8,
   "id": "3764c68c",
   "metadata": {},
   "outputs": [
    {
     "ename": "ModuleNotFoundError",
     "evalue": "No module named 'pandas'",
     "output_type": "error",
     "traceback": [
      "\u001b[31m---------------------------------------------------------------------------\u001b[39m",
      "\u001b[31mModuleNotFoundError\u001b[39m                       Traceback (most recent call last)",
      "\u001b[36mCell\u001b[39m\u001b[36m \u001b[39m\u001b[32mIn[8]\u001b[39m\u001b[32m, line 1\u001b[39m\n\u001b[32m----> \u001b[39m\u001b[32m1\u001b[39m \u001b[38;5;28;01mimport\u001b[39;00m\u001b[38;5;250m \u001b[39m\u001b[34;01mpandas\u001b[39;00m\u001b[38;5;250m \u001b[39m\u001b[38;5;28;01mas\u001b[39;00m\u001b[38;5;250m \u001b[39m\u001b[34;01mpd\u001b[39;00m\n\u001b[32m      2\u001b[39m \u001b[38;5;66;03m# import numpy as np\u001b[39;00m\n\u001b[32m      3\u001b[39m \u001b[38;5;66;03m# import matplotlib.pyplot as plt\u001b[39;00m\n\u001b[32m      4\u001b[39m \u001b[38;5;66;03m# from sklearn.linear_model import LinearRegression\u001b[39;00m\n\u001b[32m      5\u001b[39m \n\u001b[32m      6\u001b[39m \u001b[38;5;66;03m#pra receber os dadoss\u001b[39;00m\n\u001b[32m      8\u001b[39m \u001b[38;5;28;01mtry\u001b[39;00m:\n",
      "\u001b[31mModuleNotFoundError\u001b[39m: No module named 'pandas'"
     ]
    }
   ],
   "source": [
    "import pandas as pd\n",
    "# import numpy as np\n",
    "# import matplotlib.pyplot as plt\n",
    "# from sklearn.linear_model import LinearRegression\n",
    "\n",
    "#pra receber os dadoss\n",
    "\n",
    "try:\n",
    "    print(\"Carregando dados...\")\n",
    "    ENDERECO_DADOS = 'https://www.ispdados.rj.gov.br/Arquivos/BaseDPEvolucaoMensalCisp.csv'\n",
    "    df = pd.read_csv(ENDERECO_DADOS, sep=';', encoding='iso-8859-1') #  pra corrigir os dados\n",
    "    # determmina as colunas relevantes e converter para datetime\n",
    "    df['mes_ano'] = pd.to_datetime(df['ano'].astype(str) + '-' + df['mes'].astype(str))\n",
    "    #junta por trimestre\n",
    "    df_trimestral = df.groupby(pd.PeriodIndex(df['mes_ano'], freq='Q'))[['lesao_corp_dolosa', 'lesao_corp_morte']].sum().reset_index()\n",
    "    print('\\nDados trimestrais:')\n",
    "    print(df_trimestral.head())\n",
    "    print('\\nEstatisticas descritivas:')\n",
    "    print(df_trimestral.describe())\n",
    "\n",
    "\n",
    "except Exception as e:\n",
    "    print(\"Erro ao carregar os dados:\", {e})\n",
    "    exit()\n"
   ]
  }
 ],
 "metadata": {
  "kernelspec": {
   "display_name": ".venv",
   "language": "python",
   "name": "python3"
  },
  "language_info": {
   "codemirror_mode": {
    "name": "ipython",
    "version": 3
   },
   "file_extension": ".py",
   "mimetype": "text/x-python",
   "name": "python",
   "nbconvert_exporter": "python",
   "pygments_lexer": "ipython3",
   "version": "3.13.6"
  }
 },
 "nbformat": 4,
 "nbformat_minor": 5
}
