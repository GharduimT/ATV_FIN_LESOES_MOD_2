{
 "cells": [
  {
   "cell_type": "code",
   "execution_count": 1,
   "id": "3764c68c",
   "metadata": {},
   "outputs": [
    {
     "name": "stdout",
     "output_type": "stream",
     "text": [
      "Carregando dados...\n",
      "\n",
      "Dados trimestrais:\n",
      "  mes_ano  lesao_corp_dolosa  lesao_corp_morte\n",
      "0  2003Q1              20963                15\n",
      "1  2003Q2              18585                19\n",
      "2  2003Q3              17991                16\n",
      "3  2003Q4              20689                 6\n",
      "4  2004Q1              19470                10\n",
      "\n",
      "Estatisticas descritivas:\n",
      "       lesao_corp_dolosa  lesao_corp_morte\n",
      "count          90.000000         90.000000\n",
      "mean        18003.266667         11.355556\n",
      "std          3122.183336          4.460340\n",
      "min          8307.000000          4.000000\n",
      "25%         15875.500000          8.000000\n",
      "50%         18151.500000         11.000000\n",
      "75%         20254.500000         14.000000\n",
      "max         25500.000000         26.000000\n"
     ]
    }
   ],
   "source": [
    "import pandas as pd\n",
    "import numpy as np\n",
    "import matplotlib.pyplot as plt\n",
    "from sklearn.linear_model import LinearRegression\n",
    "#pra receber os dadoss\n",
    "\n",
    "try:\n",
    "    print(\"Carregando dados...\")\n",
    "    ENDERECO_DADOS = 'https://www.ispdados.rj.gov.br/Arquivos/BaseDPEvolucaoMensalCisp.csv'\n",
    "    df = pd.read_csv(ENDERECO_DADOS, sep=';', encoding='iso-8859-1') #  pra corrigir os dados\n",
    "    # determmina as colunas relevantes e converter para datetime\n",
    "    df['mes_ano'] = pd.to_datetime(df['ano'].astype(str) + '-' + df['mes'].astype(str))\n",
    "    #junta por trimestre\n",
    "    df_trimestral = df.groupby(pd.PeriodIndex(df['mes_ano'], freq='Q'))[['lesao_corp_dolosa', 'lesao_corp_morte']].sum().reset_index()\n",
    "    print('\\nDados trimestrais:')\n",
    "    print(df_trimestral.head())\n",
    "    print('\\nEstatisticas descritivas:')\n",
    "    print(df_trimestral.describe())\n",
    "except Exception as e:\n",
    "    print(\"Erro ao carregar os dados:\", {e})\n",
    "    exit()\n"
   ]
  },
  {
   "cell_type": "code",
   "execution_count": null,
   "id": "7695b590",
   "metadata": {},
   "outputs": [],
   "source": [
    " 2. Análise de Correlação\n",
    "try:\n",
    "    print('\\nCalculando correlação...')"
   ]
  }
 ],
 "metadata": {
  "kernelspec": {
   "display_name": ".venv",
   "language": "python",
   "name": "python3"
  },
  "language_info": {
   "codemirror_mode": {
    "name": "ipython",
    "version": 3
   },
   "file_extension": ".py",
   "mimetype": "text/x-python",
   "name": "python",
   "nbconvert_exporter": "python",
   "pygments_lexer": "ipython3",
   "version": "3.11.4"
  }
 },
 "nbformat": 4,
 "nbformat_minor": 5
}
